{
 "cells": [
  {
   "cell_type": "code",
   "execution_count": null,
   "metadata": {},
   "outputs": [
    {
     "name": "stdout",
     "output_type": "stream",
     "text": [
      "Waitiing for a Connection..\n",
      "Connected :  최은지\n",
      "Waitiing for a Connection..\n"
     ]
    }
   ],
   "source": [
    "import socket\n",
    "\n",
    "# 딕셔너리 생성\n",
    "user_list = {\n",
    "    '윤지민': 'y0311',\n",
    "    '최은지': 'c0331',\n",
    "    '최민아': 'w0122',\n",
    "    '이유비': 'lee0101',\n",
    "    '김다해': 'kim0103'\n",
    "}\n",
    "\n",
    "host = '127.0.0.1'\n",
    "port = 1500\n",
    "\n",
    "while True:\n",
    "    \n",
    "    ServerSocket = socket.socket(socket.AF_INET,socket.SOCK_STREAM)  #소켓 객체 생성\n",
    "    \n",
    "    try:\n",
    "        ServerSocket.bind((host, port))  # 생성한 소켓에 설정한 host와 port 맵핑\n",
    "    except socket.error as e:\n",
    "        print(str(e))\n",
    "    \n",
    "    print('Waitiing for a Connection..')\n",
    "    \n",
    "    ServerSocket.listen(1)   # 맵핑된 소켓을 연결 요청 대기 상태로 전환\n",
    "    \n",
    "    # 실제 소켓 연결 시 반환되는 실제 통신용 연결된 소켓과 연결주소 할당\n",
    "    Client, address = ServerSocket.accept()  \n",
    "    \n",
    "    Client.send(str.encode('ENTER USERNAME : ')) # 이름 요청\n",
    "    name = Client.recv(3000)  # 데이터 수신\n",
    "    \n",
    "    Client.send(str.encode('ENTER PASSWORD : ')) # 비밀번호 요청\n",
    "    password = Client.recv(3000)  # 데이터 수신\n",
    "    \n",
    "    password = password.decode()\n",
    "    \n",
    "    # 비밀번호 조건 충족 여부 검사\n",
    "    count_num=0\n",
    "    count_alpha=0\n",
    "    for i in range(len(password)):   \n",
    "        if password[i].isalpha():\n",
    "            count_alpha+=1\n",
    "        if password[i].isdigit():\n",
    "            count_num+=1\n",
    "    if len(password)<4 or count_alpha<1 or count_num<1:\n",
    "        Client.send(str.encode('비밀번호 형식이 맞지 않습니다'))\n",
    "        Client.close()\n",
    "        ServerSocket.close() #서버 닫기\n",
    "        continue\n",
    "        \n",
    "    name = name.decode()\n",
    "   \n",
    "    if name not in user_list:   #user_list에 이름이 없는 경우\n",
    "        user_list[name]=password\n",
    "        Client.send(str.encode('회원가입 성공')) \n",
    "        print('회원가입 : ',name)\n",
    "        print(\"{:<8} {:<20}\".format('USER','PASSWORD'))\n",
    "        for k, v in user_list.items():\n",
    "            label, num = k,v\n",
    "            print(\"{:<8} {:<20}\".format(label, num))\n",
    "        \n",
    "    else:    #user_list에 이름이 있는 경우\n",
    "        if(user_list[name] == password):\n",
    "            Client.send(str.encode('로그인 성공')) # user_list 이름과 패스워드 일치할 경우\n",
    "            print('Connected : ',name)\n",
    "        else:\n",
    "            Client.send(str.encode('로그인 실패')) # user_list 이름과 패스워드 틀릴 경우\n",
    "            print('Connection denied : ',name)\n",
    "            Client.close()\n",
    "            ServerSocket.close() #서버 닫기"
   ]
  },
  {
   "cell_type": "code",
   "execution_count": null,
   "metadata": {},
   "outputs": [],
   "source": []
  }
 ],
 "metadata": {
  "kernelspec": {
   "display_name": "Python 3 (ipykernel)",
   "language": "python",
   "name": "python3"
  },
  "language_info": {
   "codemirror_mode": {
    "name": "ipython",
    "version": 3
   },
   "file_extension": ".py",
   "mimetype": "text/x-python",
   "name": "python",
   "nbconvert_exporter": "python",
   "pygments_lexer": "ipython3",
   "version": "3.9.12"
  },
  "toc": {
   "base_numbering": 1,
   "nav_menu": {},
   "number_sections": true,
   "sideBar": true,
   "skip_h1_title": false,
   "title_cell": "Table of Contents",
   "title_sidebar": "Contents",
   "toc_cell": false,
   "toc_position": {},
   "toc_section_display": true,
   "toc_window_display": false
  }
 },
 "nbformat": 4,
 "nbformat_minor": 4
}
