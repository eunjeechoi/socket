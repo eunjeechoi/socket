{
 "cells": [
  {
   "cell_type": "code",
   "execution_count": 1,
   "metadata": {},
   "outputs": [
    {
     "name": "stdout",
     "output_type": "stream",
     "text": [
      "ENTER USERNAME : 최은지\n",
      "ENTER PASSWORD : c0331\n",
      "로그인 성공\n"
     ]
    }
   ],
   "source": [
    "import socket\n",
    "\n",
    "client = socket.socket(socket.AF_INET, socket.SOCK_STREAM) # 소켓 생성\n",
    "client.connect(('127.0.0.1', 1500)) # 서버와 연결\n",
    "response = client.recv(3000) # 데이터 수신 \n",
    "\n",
    "# 이름 입력\n",
    "name = input(response.decode())\n",
    "client.send(str.encode(name))  # 데이터 송신\n",
    "response = client.recv(3000) # 데이터 수신 \n",
    "\n",
    "# 비밀번호 입력\n",
    "password = input(response.decode())\n",
    "client.send(str.encode(password)) # 데이터 송신\n",
    "\n",
    "# Receive response \n",
    "response = client.recv(3000) # 데이터 수신 \n",
    "response = response.decode()\n",
    "\n",
    "print(response)\n",
    "client.close() # 연결 종료"
   ]
  }
 ],
 "metadata": {
  "kernelspec": {
   "display_name": "Python 3 (ipykernel)",
   "language": "python",
   "name": "python3"
  },
  "language_info": {
   "codemirror_mode": {
    "name": "ipython",
    "version": 3
   },
   "file_extension": ".py",
   "mimetype": "text/x-python",
   "name": "python",
   "nbconvert_exporter": "python",
   "pygments_lexer": "ipython3",
   "version": "3.9.12"
  },
  "toc": {
   "base_numbering": 1,
   "nav_menu": {},
   "number_sections": true,
   "sideBar": true,
   "skip_h1_title": false,
   "title_cell": "Table of Contents",
   "title_sidebar": "Contents",
   "toc_cell": false,
   "toc_position": {},
   "toc_section_display": true,
   "toc_window_display": false
  }
 },
 "nbformat": 4,
 "nbformat_minor": 4
}
